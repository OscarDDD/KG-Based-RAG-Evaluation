{
 "metadata": {
  "kernelspec": {
   "language": "python",
   "display_name": "Python 3",
   "name": "python3"
  },
  "language_info": {
   "name": "python",
   "version": "3.11.11",
   "mimetype": "text/x-python",
   "codemirror_mode": {
    "name": "ipython",
    "version": 3
   },
   "pygments_lexer": "ipython3",
   "nbconvert_exporter": "python",
   "file_extension": ".py"
  },
  "kaggle": {
   "accelerator": "none",
   "dataSources": [
    {
     "sourceId": 11787957,
     "sourceType": "datasetVersion",
     "datasetId": 7401510
    }
   ],
   "dockerImageVersionId": 31012,
   "isInternetEnabled": true,
   "language": "python",
   "sourceType": "notebook",
   "isGpuEnabled": false
  }
 },
 "nbformat_minor": 4,
 "nbformat": 4,
 "cells": [
  {
   "cell_type": "code",
   "source": [
    "from llama_index.embeddings.openai import OpenAIEmbedding\n",
    "from openai import api_key\n",
    "from sympy.physics.units import temperature\n",
    "%pip install ragas\n",
    "\n"
   ],
   "metadata": {
    "_uuid": "8f2839f25d086af736a60e9eeb907d3b93b6e0e5",
    "_cell_guid": "b1076dfc-b9ad-4769-8c92-a6c4dae69d19",
    "trusted": true
   },
   "outputs": [],
   "execution_count": null
  },
  {
   "cell_type": "code",
   "source": [
    "import os\n",
    "os.environ[\"OPENAI_API_KEY\"] = \"\"\n",
    "os.environ[\"OPENAI_API_BASE\"] = \"\""
   ],
   "metadata": {
    "trusted": true,
    "execution": {
     "iopub.status.busy": "2025-05-13T19:53:18.131464Z",
     "iopub.execute_input": "2025-05-13T19:53:18.131795Z",
     "iopub.status.idle": "2025-05-13T19:53:18.137351Z",
     "shell.execute_reply.started": "2025-05-13T19:53:18.131770Z",
     "shell.execute_reply": "2025-05-13T19:53:18.136273Z"
    }
   },
   "outputs": [],
   "execution_count": null
  },
  {
   "cell_type": "code",
   "source": "%pip install datasets",
   "metadata": {
    "trusted": true
   },
   "outputs": [],
   "execution_count": null
  },
  {
   "cell_type": "code",
   "source": [
    "from datasets import load_dataset\n",
    "\n",
    "dataset_macro = load_dataset(\"json\", data_files=\"\")\n",
    "dataset_old = load_dataset(\"json\", data_files=\"\")\n",
    "raw_dataset_macro = dataset_macro['train']\n",
    "raw_dataset_old = dataset_old['train']\n"
   ],
   "metadata": {
    "trusted": true,
    "execution": {
     "iopub.status.busy": "2025-05-13T19:53:19.918650Z",
     "iopub.execute_input": "2025-05-13T19:53:19.919546Z",
     "iopub.status.idle": "2025-05-13T19:53:20.037557Z",
     "shell.execute_reply.started": "2025-05-13T19:53:19.919509Z",
     "shell.execute_reply": "2025-05-13T19:53:20.036346Z"
    }
   },
   "outputs": [],
   "execution_count": null
  },
  {
   "metadata": {},
   "cell_type": "code",
   "source": "%pip install --upgrade ragas\n",
   "outputs": [],
   "execution_count": null
  },
  {
   "metadata": {},
   "cell_type": "code",
   "source": [
    "print(len(raw_dataset_macro[\"question\"][0]))\n",
    "print(raw_dataset_macro[\"answer\"][0][len(raw_dataset_macro[\"question\"])-1-0])"
   ],
   "outputs": [],
   "execution_count": null
  },
  {
   "cell_type": "code",
   "source": [
    "from datasets import Dataset\n",
    "data = []\n",
    "for i in range(len(raw_dataset_macro[\"question\"][0])):\n",
    "    data.append({\n",
    "        \"user_input\": raw_dataset_macro[\"question\"][0][i],\n",
    "        \"retrieved_contexts\": raw_dataset_macro[\"contexts\"][0][i],  # 假设是个列表或字符串\n",
    "        \"response\": raw_dataset_macro[\"answer\"][0][len(raw_dataset_macro[\"question\"][0])-1-i],\n",
    "        \"reference\": raw_dataset_macro[\"reference\"][0][i]\n",
    "    })\n",
    "data_dict_macro = data"
   ],
   "metadata": {
    "trusted": true,
    "execution": {
     "iopub.status.busy": "2025-05-13T19:53:23.894924Z",
     "iopub.execute_input": "2025-05-13T19:53:23.895239Z",
     "iopub.status.idle": "2025-05-13T19:53:23.925113Z",
     "shell.execute_reply.started": "2025-05-13T19:53:23.895218Z",
     "shell.execute_reply": "2025-05-13T19:53:23.923918Z"
    }
   },
   "outputs": [],
   "execution_count": null
  },
  {
   "metadata": {},
   "cell_type": "code",
   "source": [
    "from datasets import Dataset\n",
    "data = []\n",
    "for i in range(len(raw_dataset_old[\"question\"][0])):\n",
    "    data.append({\n",
    "        \"user_input\": raw_dataset_old[\"question\"][0][i],\n",
    "        \"retrieved_contexts\": raw_dataset_old[\"contexts\"][0][i],  # 假设是个列表或字符串\n",
    "        \"response\": raw_dataset_old[\"answer\"][0][len(raw_dataset_old[\"question\"][0]) - 1 - i],\n",
    "        \"reference\": raw_dataset_old[\"reference\"][0][i]\n",
    "    })\n",
    "data_dict_old = data"
   ],
   "outputs": [],
   "execution_count": null
  },
  {
   "cell_type": "code",
   "source": [
    "from ragas import EvaluationDataset\n",
    "import pandas as pd\n",
    "\n",
    "processed_dataset_macro = EvaluationDataset.from_list(data_dict_macro)\n",
    "processed_dataset_old = EvaluationDataset.from_list(data_dict_old)"
   ],
   "metadata": {
    "trusted": true,
    "execution": {
     "iopub.status.busy": "2025-05-13T19:53:31.120563Z",
     "iopub.execute_input": "2025-05-13T19:53:31.120943Z",
     "iopub.status.idle": "2025-05-13T19:53:31.136572Z",
     "shell.execute_reply.started": "2025-05-13T19:53:31.120915Z",
     "shell.execute_reply": "2025-05-13T19:53:31.135413Z"
    }
   },
   "outputs": [],
   "execution_count": null
  },
  {
   "metadata": {},
   "cell_type": "code",
   "source": [
    "from openai import OpenAI\n",
    "from ragas.embeddings import OpenAIEmbeddings\n",
    "import os\n",
    "# 获取 embeddings\n",
    "openai_client = OpenAI(\n",
    "    api_key=os.environ[\"OPENAI_API_KEY\"],\n",
    "    base_url=os.environ[\"OPENAI_API_BASE\"]\n",
    ")\n",
    "\n",
    "embeddings = OpenAIEmbeddings(client=openai_client, model=\"text-embedding-3-large\")\n"
   ],
   "outputs": [],
   "execution_count": null
  },
  {
   "metadata": {},
   "cell_type": "code",
   "source": [
    "import ragas\n",
    "print(ragas.__version__)"
   ],
   "outputs": [],
   "execution_count": null
  },
  {
   "metadata": {
    "trusted": true,
    "execution": {
     "iopub.status.busy": "2025-05-13T19:53:35.635097Z",
     "iopub.execute_input": "2025-05-13T19:53:35.635490Z",
     "iopub.status.idle": "2025-05-13T21:18:14.644181Z",
     "shell.execute_reply.started": "2025-05-13T19:53:35.635465Z",
     "shell.execute_reply": "2025-05-13T21:18:14.643118Z"
    }
   },
   "cell_type": "code",
   "source": [
    "from ragas import evaluate\n",
    "from ragas.llms import llm_factory\n",
    "from ragas.run_config import RunConfig\n",
    "import os\n",
    "\n",
    "from ragas.metrics import (\n",
    "    Faithfulness,\n",
    "    FactualCorrectness,\n",
    "    ContextRelevance, ResponseRelevancy,\n",
    ")\n",
    "\n",
    "\n",
    "metrics = [\n",
    "    ResponseRelevancy(strictness=3),\n",
    "    Faithfulness(),\n",
    "    FactualCorrectness(),\n",
    "    ContextRelevance(),\n",
    "]\n",
    "\n",
    "llm = llm_factory(\n",
    "    model=\"gpt-4o-mini\",\n",
    "    base_url=os.environ[\"OPENAI_API_BASE\"],\n",
    ")\n",
    "llm.multiple_completion_supported = True\n",
    "\n",
    "for m in metrics:\n",
    "    m.llm = llm\n",
    "    m.embeddings = embeddings"
   ],
   "outputs": [],
   "execution_count": null
  },
  {
   "metadata": {},
   "cell_type": "code",
   "source": [
    "from ragas import RunConfig\n",
    "\n",
    "result_macro = evaluate(\n",
    "    dataset=processed_dataset_macro,\n",
    "    metrics=metrics,\n",
    "    llm=llm,\n",
    "    embeddings=embeddings,\n",
    "    batch_size=20,\n",
    "    raise_exceptions=False,\n",
    ")\n",
    "evaluation_macro = result_macro.to_pandas()\n"
   ],
   "outputs": [],
   "execution_count": null
  },
  {
   "metadata": {
    "trusted": true,
    "execution": {
     "iopub.status.busy": "2025-05-13T21:25:41.246635Z",
     "iopub.execute_input": "2025-05-13T21:25:41.247126Z",
     "iopub.status.idle": "2025-05-13T21:25:41.277767Z",
     "shell.execute_reply.started": "2025-05-13T21:25:41.246980Z",
     "shell.execute_reply": "2025-05-13T21:25:41.276589Z"
    }
   },
   "cell_type": "code",
   "source": [
    "result_old = evaluate(\n",
    "    dataset=processed_dataset_old,\n",
    "    metrics=metrics,\n",
    "    llm=llm,\n",
    "    embeddings=embeddings,\n",
    "    batch_size=20,\n",
    "    raise_exceptions=False,\n",
    ")\n",
    "evaluation_old = result_old.to_pandas()"
   ],
   "outputs": [],
   "execution_count": null
  },
  {
   "cell_type": "code",
   "source": [
    "evaluation_macro.to_json(\"output_macro_response_relevancy_reference_as_answer_wrong.json\", orient=\"records\", indent=4)\n",
    "evaluation_old.to_json(\"output_old_response_relevancy_reference_as_answer_wrong.json\", orient=\"records\", indent=4)"
   ],
   "metadata": {
    "trusted": true,
    "execution": {
     "iopub.status.busy": "2025-05-13T21:33:47.818691Z",
     "iopub.execute_input": "2025-05-13T21:33:47.819064Z",
     "iopub.status.idle": "2025-05-13T21:33:47.841762Z",
     "shell.execute_reply.started": "2025-05-13T21:33:47.819038Z",
     "shell.execute_reply": "2025-05-13T21:33:47.840787Z"
    }
   },
   "outputs": [],
   "execution_count": null
  }
 ]
}
